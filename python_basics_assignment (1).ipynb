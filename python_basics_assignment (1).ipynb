{
  "nbformat": 4,
  "nbformat_minor": 5,
  "metadata": {},
  "cells": [
    {
      "id": "6ee593b3",
      "cell_type": "markdown",
      "source": "# Python Basics Assignment Solutions",
      "metadata": {}
    },
    {
      "id": "5a27feee",
      "cell_type": "markdown",
      "source": "## Q1: What is Python? List some features of Python.\n\n**Answer:**  \nPython is a high-level, interpreted, and general-purpose programming language. It is widely used for web development, data science, automation, artificial intelligence, and more.\n\n**Features of Python:**\n- Easy to learn and read (simple syntax).\n- Interpreted language.\n- Dynamically typed.\n- Object-oriented and procedural support.\n- Large standard library.\n- Cross-platform compatibility.",
      "metadata": {}
    },
    {
      "id": "504c5280",
      "cell_type": "markdown",
      "source": "## Q2: What is the difference between Python 2 and Python 3?\n\n**Answer:**\n- Python 2 is legacy, while Python 3 is the present and future of Python.\n- `print` is a statement in Python 2, but a function in Python 3.\n- Integer division in Python 2 truncates, while in Python 3 it gives float results by default.\n- Python 3 has better Unicode support.\n- Python 2 is no longer maintained.",
      "metadata": {}
    },
    {
      "id": "1db8d0fd",
      "cell_type": "markdown",
      "source": "## Q3: What are variables in Python? How are they declared?\n\n**Answer:**\nVariables are containers to store data. In Python, variables are created when a value is assigned; no explicit declaration is required.",
      "metadata": {}
    },
    {
      "id": "919d6d7e",
      "cell_type": "markdown",
      "source": "## Q4: What is indentation in Python?\n\n**Answer:**\nIndentation refers to the spaces at the beginning of a line of code. In Python, indentation is mandatory to define blocks (loops, functions, conditionals). Improper indentation causes errors.",
      "metadata": {}
    },
    {
      "id": "6bc2b723",
      "cell_type": "markdown",
      "source": "## Q5: What are Python data types?\n\n**Answer:**\nSome common Python data types are:\n- Numeric: int, float, complex\n- Sequence: list, tuple, range\n- Text: str\n- Set: set, frozenset\n- Mapping: dict\n- Boolean: bool",
      "metadata": {}
    },
    {
      "id": "74789ea0",
      "cell_type": "markdown",
      "source": "## Q6: Write a program to print 'Hello, World!'",
      "metadata": {}
    },
    {
      "id": "b3eda544",
      "cell_type": "code",
      "metadata": {},
      "execution_count": null,
      "source": "print(\"Hello, World!\")",
      "outputs": []
    },
    {
      "id": "43862da2",
      "cell_type": "markdown",
      "source": "## Q7: Write a program to add two numbers taken from the user.",
      "metadata": {}
    },
    {
      "id": "99746ebf",
      "cell_type": "code",
      "metadata": {},
      "execution_count": null,
      "source": "a = int(input(\"Enter first number: \"))\nb = int(input(\"Enter second number: \"))\nprint(\"Sum:\", a + b)",
      "outputs": []
    },
    {
      "id": "de0bfc30",
      "cell_type": "markdown",
      "source": "## Q8: Write a program to find the square of a number.",
      "metadata": {}
    },
    {
      "id": "bae9cb28",
      "cell_type": "code",
      "metadata": {},
      "execution_count": null,
      "source": "num = int(input(\"Enter a number: \"))\nprint(\"Square:\", num ** 2)",
      "outputs": []
    },
    {
      "id": "4d181373",
      "cell_type": "markdown",
      "source": "## Q9: Write a program to calculate the area of a rectangle.",
      "metadata": {}
    },
    {
      "id": "8253760c",
      "cell_type": "code",
      "metadata": {},
      "execution_count": null,
      "source": "length = float(input(\"Enter length: \"))\nwidth = float(input(\"Enter width: \"))\narea = length * width\nprint(\"Area of rectangle:\", area)",
      "outputs": []
    },
    {
      "id": "5ff285bb",
      "cell_type": "markdown",
      "source": "## Q10: Write a program to swap two variables.",
      "metadata": {}
    },
    {
      "id": "12033f74",
      "cell_type": "code",
      "metadata": {},
      "execution_count": null,
      "source": "x = input(\"Enter value of x: \")\ny = input(\"Enter value of y: \")\nprint(\"Before swap: x =\", x, \", y =\", y)\nx, y = y, x\nprint(\"After swap: x =\", x, \", y =\", y)",
      "outputs": []
    },
    {
      "id": "131a70fb",
      "cell_type": "markdown",
      "source": "## Q11: Write a program to convert temperature from Celsius to Fahrenheit.",
      "metadata": {}
    },
    {
      "id": "66115b8d",
      "cell_type": "code",
      "metadata": {},
      "execution_count": null,
      "source": "celsius = float(input(\"Enter temperature in Celsius: \"))\nfahrenheit = (celsius * 9/5) + 32\nprint(\"Temperature in Fahrenheit:\", fahrenheit)",
      "outputs": []
    },
    {
      "id": "cb955941",
      "cell_type": "markdown",
      "source": "## Q12: Write a program to find the largest of three numbers.",
      "metadata": {}
    },
    {
      "id": "3605a966",
      "cell_type": "code",
      "metadata": {},
      "execution_count": null,
      "source": "num1 = float(input(\"Enter first number: \"))\nnum2 = float(input(\"Enter second number: \"))\nnum3 = float(input(\"Enter third number: \"))\nprint(\"Largest number is:\", max(num1, num2, num3))",
      "outputs": []
    },
    {
      "id": "a1feb2be",
      "cell_type": "markdown",
      "source": "## Q13: Write a program to check whether a number is even or odd.",
      "metadata": {}
    },
    {
      "id": "a17bee71",
      "cell_type": "code",
      "metadata": {},
      "execution_count": null,
      "source": "num = int(input(\"Enter a number: \"))\nif num % 2 == 0:\n    print(num, \"is Even\")\nelse:\n    print(num, \"is Odd\")",
      "outputs": []
    },
    {
      "id": "187bcbca",
      "cell_type": "markdown",
      "source": "## Q14: Write a program to find the factorial of a number.",
      "metadata": {}
    },
    {
      "id": "febd5c00",
      "cell_type": "code",
      "metadata": {},
      "execution_count": null,
      "source": "n = int(input(\"Enter a number: \"))\nfactorial = 1\nfor i in range(1, n+1):\n    factorial *= i\nprint(\"Factorial:\", factorial)",
      "outputs": []
    },
    {
      "id": "340ad5ea",
      "cell_type": "markdown",
      "source": "## Q15: Write a program to generate the multiplication table of a given number.",
      "metadata": {}
    },
    {
      "id": "9f5668fa",
      "cell_type": "code",
      "metadata": {},
      "execution_count": null,
      "source": "num = int(input(\"Enter a number: \"))\nfor i in range(1, 11):\n    print(num, \"x\", i, \"=\", num * i)",
      "outputs": []
    }
  ]
}